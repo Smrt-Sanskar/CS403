{
 "cells": [
  {
   "cell_type": "code",
   "execution_count": 1,
   "id": "another-pontiac",
   "metadata": {},
   "outputs": [
    {
     "data": {
      "text/plain": [
       "'\\nMinimum steps to one problem: You can perform any one of the\\nthree steps mentioned below on a positive integer.\\n(a) Take away one. (n = n − 1)\\n1(b) Divide by 2, if it’s divisible by two. (if n%2 == 0, then n = n/2),\\n(c) If the number is divisible by three, divide by three.(if n%3 == 0.\\nthen n = n/3),\\nNow, given a positive integer n, calculate the minimum number of steps\\nthat takes from n to 1. Solve only by using dynamic approach and com-\\nment in your code where you have applied it.\\n'"
      ]
     },
     "execution_count": 1,
     "metadata": {},
     "output_type": "execute_result"
    }
   ],
   "source": [
    "'''\n",
    "Minimum steps to one problem: You can perform any one of the\n",
    "three steps mentioned below on a positive integer.\n",
    "(a) Take away one. (n = n − 1)\n",
    "1(b) Divide by 2, if it’s divisible by two. (if n%2 == 0, then n = n/2),\n",
    "(c) If the number is divisible by three, divide by three.(if n%3 == 0.\n",
    "then n = n/3),\n",
    "Now, given a positive integer n, calculate the minimum number of steps\n",
    "that takes from n to 1. Solve only by using dynamic approach and com-\n",
    "ment in your code where you have applied it.\n",
    "'''"
   ]
  },
  {
   "cell_type": "code",
   "execution_count": 5,
   "id": "reliable-capability",
   "metadata": {},
   "outputs": [
    {
     "name": "stdout",
     "output_type": "stream",
     "text": [
      "7\n"
     ]
    }
   ],
   "source": [
    "# taking input\n",
    "n = int(input())"
   ]
  },
  {
   "cell_type": "code",
   "execution_count": 6,
   "id": "exclusive-pitch",
   "metadata": {},
   "outputs": [],
   "source": [
    "# dp[i] = min steps that takes from i to 1\n",
    "# Time complexity = O(n)\n",
    "dp = [1e9 for i in range(n + 1)]\n",
    "dp[1] = 0\n",
    "for i in range(2, n + 1):\n",
    "    dp[i] = min(dp[i], dp[i - 1] + 1) # (steps that takes from i - 1 to 1) + 1\n",
    "    if(i % 2 == 0): dp[i] = min(dp[i], dp[i // 2] + 1) # (steps that takes from i // 2 to 1) + 1\n",
    "    if(i % 3 == 0): dp[i] = min(dp[i], dp[i // 3] + 1) # (steps that takes from i // 3 to 1) + 1   "
   ]
  },
  {
   "cell_type": "code",
   "execution_count": 7,
   "id": "micro-national",
   "metadata": {},
   "outputs": [
    {
     "name": "stdout",
     "output_type": "stream",
     "text": [
      "3\n"
     ]
    }
   ],
   "source": [
    "print(dp[n])"
   ]
  },
  {
   "cell_type": "code",
   "execution_count": null,
   "id": "novel-aluminum",
   "metadata": {},
   "outputs": [],
   "source": []
  }
 ],
 "metadata": {
  "kernelspec": {
   "display_name": "Python 3",
   "language": "python",
   "name": "python3"
  },
  "language_info": {
   "codemirror_mode": {
    "name": "ipython",
    "version": 3
   },
   "file_extension": ".py",
   "mimetype": "text/x-python",
   "name": "python",
   "nbconvert_exporter": "python",
   "pygments_lexer": "ipython3",
   "version": "3.6.9"
  }
 },
 "nbformat": 4,
 "nbformat_minor": 5
}
