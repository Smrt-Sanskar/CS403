{
 "cells": [
  {
   "cell_type": "code",
   "execution_count": 1,
   "id": "nominated-sailing",
   "metadata": {},
   "outputs": [
    {
     "data": {
      "text/plain": [
       "'\\nCutting a gold bar: Bob robbed a gold bar from a wealthy businessman,\\nand in order to avoid being arrested, he decided to shell the gold bar, but\\nnot in one piece, so he cut the bar into small pieces and plan to sell them\\nto various jewellery stores to maximise his profit. He has a gold bar of\\nlength n inches and an array of prices containing prices of all pieces of size\\nsmaller than n. Write a program using dynamic programming approach\\nthat determine the maximum value obtainable by cutting up the gold bar\\nand selling the pieces.\\nExample : If length of the rod is 10 inches and the values of different\\npieces are given as following,\\nlength\\nprice\\n1\\n10\\n2\\n15\\n3\\n20\\n4\\n25\\n5\\n30\\n6\\n50\\n7\\n60\\n8\\n70\\nthen the maximum obtainable value is 100 (by cutting in ten pieces of\\nlength 1).\\n'"
      ]
     },
     "execution_count": 1,
     "metadata": {},
     "output_type": "execute_result"
    }
   ],
   "source": [
    "'''\n",
    "Cutting a gold bar: Bob robbed a gold bar from a wealthy businessman,\n",
    "and in order to avoid being arrested, he decided to shell the gold bar, but\n",
    "not in one piece, so he cut the bar into small pieces and plan to sell them\n",
    "to various jewellery stores to maximise his profit. He has a gold bar of\n",
    "length n inches and an array of prices containing prices of all pieces of size\n",
    "smaller than n. Write a program using dynamic programming approach\n",
    "that determine the maximum value obtainable by cutting up the gold bar\n",
    "and selling the pieces.\n",
    "Example : If length of the rod is 10 inches and the values of different\n",
    "pieces are given as following,\n",
    "length 1  2  3  4  5  6  7  8\n",
    "price 10 15 20 25 30 50 60 70\n",
    "then the maximum obtainable value is 100 (by cutting in ten pieces of\n",
    "length 1).\n",
    "'''"
   ]
  },
  {
   "cell_type": "code",
   "execution_count": 11,
   "id": "brown-bobby",
   "metadata": {},
   "outputs": [
    {
     "name": "stdout",
     "output_type": "stream",
     "text": [
      "9\n",
      "10 15 20 25 30 50 60 70\n"
     ]
    }
   ],
   "source": [
    "# taking input\n",
    "# length of price should be n - 1\n",
    "n = int(input())\n",
    "price = list(map(int, input().split()))"
   ]
  },
  {
   "cell_type": "code",
   "execution_count": 12,
   "id": "latin-canadian",
   "metadata": {},
   "outputs": [],
   "source": [
    "# dp[i] = max cost obtained for rod of length i\n",
    "# Time complexity = O(n * n)\n",
    "dp = [0 for i in range(n + 1)]\n",
    "for i in range(1, n + 1):\n",
    "    for j in range(1, min(i + 1, n - 1)):\n",
    "        dp[i] = max(dp[i], dp[i - j] + price[j - 1]) # buy a rod of price j"
   ]
  },
  {
   "cell_type": "code",
   "execution_count": 13,
   "id": "herbal-metallic",
   "metadata": {},
   "outputs": [
    {
     "name": "stdout",
     "output_type": "stream",
     "text": [
      "90\n"
     ]
    }
   ],
   "source": [
    "print(dp[n])"
   ]
  },
  {
   "cell_type": "code",
   "execution_count": null,
   "id": "endangered-mineral",
   "metadata": {},
   "outputs": [],
   "source": []
  }
 ],
 "metadata": {
  "kernelspec": {
   "display_name": "Python 3",
   "language": "python",
   "name": "python3"
  },
  "language_info": {
   "codemirror_mode": {
    "name": "ipython",
    "version": 3
   },
   "file_extension": ".py",
   "mimetype": "text/x-python",
   "name": "python",
   "nbconvert_exporter": "python",
   "pygments_lexer": "ipython3",
   "version": "3.6.9"
  }
 },
 "nbformat": 4,
 "nbformat_minor": 5
}
