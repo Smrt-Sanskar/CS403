{
 "cells": [
  {
   "cell_type": "code",
   "execution_count": 1,
   "id": "verified-drama",
   "metadata": {},
   "outputs": [
    {
     "data": {
      "text/plain": [
       "'\\nWrite an algorithm by modify the KMP algorithm (not DP algorithm!)\\nto find the longest common substring in string S and string T . The al-\\ngorithm should return the longest common substring if present otherwise\\nreturn “Not Found”. What is the time complexity of this modified KMP\\nalgorithm?\\nFor example: if the string S is report, and the string T is airport, then\\nalgorithm should output the longest common substring: port as output.\\n'"
      ]
     },
     "execution_count": 1,
     "metadata": {},
     "output_type": "execute_result"
    }
   ],
   "source": [
    "'''\n",
    "Write an algorithm by modify the KMP algorithm (not DP algorithm!)\n",
    "to find the longest common substring in string S and string T . The al-\n",
    "gorithm should return the longest common substring if present otherwise\n",
    "return “Not Found”. What is the time complexity of this modified KMP\n",
    "algorithm?\n",
    "For example: if the string S is report, and the string T is airport, then\n",
    "algorithm should output the longest common substring: port as output.\n",
    "'''"
   ]
  },
  {
   "cell_type": "code",
   "execution_count": 15,
   "id": "stopped-break",
   "metadata": {},
   "outputs": [
    {
     "name": "stdout",
     "output_type": "stream",
     "text": [
      "report\n",
      "airportbase\n"
     ]
    }
   ],
   "source": [
    "# taking input\n",
    "s = input()\n",
    "t = input()"
   ]
  },
  {
   "cell_type": "code",
   "execution_count": 16,
   "id": "billion-trailer",
   "metadata": {},
   "outputs": [],
   "source": [
    "# lps array for every suffix of s\n",
    "# Time complexity = O(n * n)\n",
    "l = 0\n",
    "r = 0\n",
    "suf = \"\"\n",
    "for i in range(len(s) - 1, -1, -1):\n",
    "    suf = s[i] + suf\n",
    "    tmp = suf + '#' + t\n",
    "    lps = [0 for i in range(len(tmp))]\n",
    "    j = 0\n",
    "    k = 1\n",
    "    while (k < len(tmp)):\n",
    "        if(tmp[k] == tmp[j]):\n",
    "            j += 1\n",
    "            lps[k] = j\n",
    "            k += 1\n",
    "        else:\n",
    "            if(j != 0): j = lps[j - 1]\n",
    "            else: \n",
    "                lps[k] = 0\n",
    "                k += 1        \n",
    "    for j in range(len(suf) + 1, len(tmp)):\n",
    "        if(r - l < lps[j]): # if this solution is better update\n",
    "            l = i\n",
    "            r = i + lps[j]           "
   ]
  },
  {
   "cell_type": "code",
   "execution_count": 17,
   "id": "expected-difference",
   "metadata": {},
   "outputs": [
    {
     "name": "stdout",
     "output_type": "stream",
     "text": [
      "port\n"
     ]
    }
   ],
   "source": [
    "if(l == 0 and r == 0): print(\"Not Found\") \n",
    "else: print(s[l : r])"
   ]
  },
  {
   "cell_type": "code",
   "execution_count": null,
   "id": "joined-terminal",
   "metadata": {},
   "outputs": [],
   "source": []
  }
 ],
 "metadata": {
  "kernelspec": {
   "display_name": "Python 3",
   "language": "python",
   "name": "python3"
  },
  "language_info": {
   "codemirror_mode": {
    "name": "ipython",
    "version": 3
   },
   "file_extension": ".py",
   "mimetype": "text/x-python",
   "name": "python",
   "nbconvert_exporter": "python",
   "pygments_lexer": "ipython3",
   "version": "3.6.9"
  }
 },
 "nbformat": 4,
 "nbformat_minor": 5
}
