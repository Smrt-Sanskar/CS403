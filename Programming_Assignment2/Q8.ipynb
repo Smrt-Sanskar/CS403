{
 "cells": [
  {
   "cell_type": "code",
   "execution_count": 1,
   "id": "backed-number",
   "metadata": {},
   "outputs": [
    {
     "data": {
      "text/plain": [
       "'\\nGiven a string S, you are allowed to convert it to a palindrome by adding 0\\nor more characters in front of it. Find the length of the shortest palindrome\\nthat you can create from S by applying the above transformation.\\n'"
      ]
     },
     "execution_count": 1,
     "metadata": {},
     "output_type": "execute_result"
    }
   ],
   "source": [
    "'''\n",
    "Given a string S, you are allowed to convert it to a palindrome by adding 0\n",
    "or more characters in front of it. Find the length of the shortest palindrome\n",
    "that you can create from S by applying the above transformation.\n",
    "'''"
   ]
  },
  {
   "cell_type": "code",
   "execution_count": 8,
   "id": "round-adolescent",
   "metadata": {},
   "outputs": [
    {
     "name": "stdout",
     "output_type": "stream",
     "text": [
      "sannas\n"
     ]
    }
   ],
   "source": [
    "# taking input\n",
    "s = input()\n",
    "t = s + '#' + s[::-1] # concatenated string"
   ]
  },
  {
   "cell_type": "code",
   "execution_count": 9,
   "id": "chemical-delta",
   "metadata": {},
   "outputs": [],
   "source": [
    "# lps array for concatenated string\n",
    "# Time complexity = O(n)\n",
    "lps = [0 for i in range(len(t))]\n",
    "j = 0\n",
    "i = 1\n",
    "while (i < len(t)):\n",
    "    if(t[i] == t[j]):\n",
    "        j += 1\n",
    "        lps[i] = j\n",
    "        i += 1\n",
    "    else:\n",
    "        if(j != 0): j = lps[j - 1]\n",
    "        else: \n",
    "            lps[i] = 0\n",
    "            i += 1"
   ]
  },
  {
   "cell_type": "code",
   "execution_count": 10,
   "id": "right-greece",
   "metadata": {},
   "outputs": [
    {
     "name": "stdout",
     "output_type": "stream",
     "text": [
      "0\n"
     ]
    }
   ],
   "source": [
    "print(len(s) - lps[-1])"
   ]
  },
  {
   "cell_type": "code",
   "execution_count": null,
   "id": "central-steam",
   "metadata": {},
   "outputs": [],
   "source": []
  }
 ],
 "metadata": {
  "kernelspec": {
   "display_name": "Python 3",
   "language": "python",
   "name": "python3"
  },
  "language_info": {
   "codemirror_mode": {
    "name": "ipython",
    "version": 3
   },
   "file_extension": ".py",
   "mimetype": "text/x-python",
   "name": "python",
   "nbconvert_exporter": "python",
   "pygments_lexer": "ipython3",
   "version": "3.6.9"
  }
 },
 "nbformat": 4,
 "nbformat_minor": 5
}
