{
 "cells": [
  {
   "cell_type": "code",
   "execution_count": 1,
   "id": "romantic-south",
   "metadata": {},
   "outputs": [
    {
     "data": {
      "text/plain": [
       "'\\nAward problem: Rahul teaches an algebraic courses. He wants to hon-\\nour the students in his class with some awards. All the students stand\\nin a line and each of them has a grade according to his or her participa-\\ntion in the class. Rahul wants to give each student at least one award.\\nIf two students are standing adjacent to each other, then the one with\\nthe higher rating must get more awards than the other. Rahul wants to\\nbuy the fewest number of awards possible. Your task is to determine the\\nminimum number of awards Rahul must purchase in order to distribute\\nthem among his students according to the criteria listed above, given an\\narray GRADES of size N containing each student’s grades.\\nExample: Assume his students’ ratings are [5, 8, 1, 5, 9, 4]. He gives the\\nstudents awards in the following minimal amounts: [1, 2, 1, 2, 3, 1]. He\\nmust buy a minimum of 10 awards.\\n'"
      ]
     },
     "execution_count": 1,
     "metadata": {},
     "output_type": "execute_result"
    }
   ],
   "source": [
    "'''\n",
    "Award problem: Rahul teaches an algebraic courses. He wants to hon-\n",
    "our the students in his class with some awards. All the students stand\n",
    "in a line and each of them has a grade according to his or her participa-\n",
    "tion in the class. Rahul wants to give each student at least one award.\n",
    "If two students are standing adjacent to each other, then the one with\n",
    "the higher rating must get more awards than the other. Rahul wants to\n",
    "buy the fewest number of awards possible. Your task is to determine the\n",
    "minimum number of awards Rahul must purchase in order to distribute\n",
    "them among his students according to the criteria listed above, given an\n",
    "array GRADES of size N containing each student’s grades.\n",
    "Example: Assume his students’ ratings are [5, 8, 1, 5, 9, 4]. He gives the\n",
    "students awards in the following minimal amounts: [1, 2, 1, 2, 3, 1]. He\n",
    "must buy a minimum of 10 awards.\n",
    "'''"
   ]
  },
  {
   "cell_type": "code",
   "execution_count": 2,
   "id": "sonic-doctrine",
   "metadata": {},
   "outputs": [
    {
     "name": "stdout",
     "output_type": "stream",
     "text": [
      "6\n",
      "5 8 1 5 9 4\n"
     ]
    }
   ],
   "source": [
    "# taking input\n",
    "n = int(input())\n",
    "rating = list(map(int, input().split()))"
   ]
  },
  {
   "cell_type": "code",
   "execution_count": 6,
   "id": "organized-calibration",
   "metadata": {},
   "outputs": [],
   "source": [
    "# dp1 = stores the effect of left student\n",
    "# dp2 = stores the effect of right student\n",
    "# Time complexity = O(n)\n",
    "dp1 = [1 for i in range(n)]\n",
    "dp2 = [1 for i in range(n)]\n",
    "for i in range(1, n):\n",
    "    if(rating[i - 1] < rating[i]): dp1[i] = dp1[i - 1] + 1 # if rating is greater than previous rating\n",
    "    else: dp1[i] = 1\n",
    "for i in range(n - 2, -1, -1):\n",
    "    if(rating[i] > rating[i + 1]): dp2[i] = dp2[i + 1] + 1 # if rating is greater than upcoming rating\n",
    "    else: dp2[i] = 1    "
   ]
  },
  {
   "cell_type": "code",
   "execution_count": 7,
   "id": "collected-pennsylvania",
   "metadata": {},
   "outputs": [
    {
     "name": "stdout",
     "output_type": "stream",
     "text": [
      "10\n"
     ]
    }
   ],
   "source": [
    "# final ans is max of the two effects\n",
    "ans = [max(dp1[i], dp2[i]) for i in range(n)]\n",
    "print(sum(ans))"
   ]
  },
  {
   "cell_type": "code",
   "execution_count": null,
   "id": "trained-investigation",
   "metadata": {},
   "outputs": [],
   "source": []
  }
 ],
 "metadata": {
  "kernelspec": {
   "display_name": "Python 3",
   "language": "python",
   "name": "python3"
  },
  "language_info": {
   "codemirror_mode": {
    "name": "ipython",
    "version": 3
   },
   "file_extension": ".py",
   "mimetype": "text/x-python",
   "name": "python",
   "nbconvert_exporter": "python",
   "pygments_lexer": "ipython3",
   "version": "3.6.9"
  }
 },
 "nbformat": 4,
 "nbformat_minor": 5
}
