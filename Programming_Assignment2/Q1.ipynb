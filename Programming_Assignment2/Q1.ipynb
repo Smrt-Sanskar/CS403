{
 "cells": [
  {
   "cell_type": "code",
   "execution_count": 1,
   "id": "completed-cycle",
   "metadata": {},
   "outputs": [
    {
     "data": {
      "text/plain": [
       "'\\nHouse Robbing: Alice is a skilled thief who plans to rob houses down\\na lane. Each house has a certain amount of money stashed, and the\\nonly thing keeping Alice from robbing each of them is that neighbouring\\nhouses have security systems attached, and if two adjacent houses are\\nbroken into on the same night, the security systems will immediately notify\\nthe police. Write a program with dynamic approach which return the\\nmaximum amount of money you can steal tonight without alerting the\\ncops, given an integer array wealth representing the amount of money\\nlying in each home.\\nExample : If there as 5 houses in a street, and their wealth array is given\\nas: [2, 7, 9, 3, 1].\\nOutput : 12\\nExplanation: Rob house 1 (give wealth = 2), rob house 3 (give wealth =\\n9) and rob house 5 (give wealth = 1). Total profit Alice = 2 + 9 + 1 = 12.\\n'"
      ]
     },
     "execution_count": 1,
     "metadata": {},
     "output_type": "execute_result"
    }
   ],
   "source": [
    "'''\n",
    "House Robbing: Alice is a skilled thief who plans to rob houses down\n",
    "a lane. Each house has a certain amount of money stashed, and the\n",
    "only thing keeping Alice from robbing each of them is that neighbouring\n",
    "houses have security systems attached, and if two adjacent houses are\n",
    "broken into on the same night, the security systems will immediately notify\n",
    "the police. Write a program with dynamic approach which return the\n",
    "maximum amount of money you can steal tonight without alerting the\n",
    "cops, given an integer array wealth representing the amount of money\n",
    "lying in each home.\n",
    "Example : If there as 5 houses in a street, and their wealth array is given\n",
    "as: [2, 7, 9, 3, 1].\n",
    "Output : 12\n",
    "Explanation: Rob house 1 (give wealth = 2), rob house 3 (give wealth =\n",
    "9) and rob house 5 (give wealth = 1). Total profit Alice = 2 + 9 + 1 = 12.\n",
    "'''"
   ]
  },
  {
   "cell_type": "code",
   "execution_count": 14,
   "id": "square-letter",
   "metadata": {},
   "outputs": [
    {
     "name": "stdout",
     "output_type": "stream",
     "text": [
      "5\n",
      "2 7 9 3 1\n"
     ]
    }
   ],
   "source": [
    "# taking input\n",
    "n = int(input())\n",
    "wealth = list(map(int, input().split()))"
   ]
  },
  {
   "cell_type": "code",
   "execution_count": 15,
   "id": "greek-graph",
   "metadata": {},
   "outputs": [],
   "source": [
    "# dp[i][0] = max amount till the ith house when its not broken\n",
    "# dp[i][1] = max amount till the ith house when its broken\n",
    "# Time complexity = O(n)\n",
    "dp = [[0, 0] for i in range(n)]\n",
    "for i in range(n):\n",
    "    if(i == 0):\n",
    "        dp[i][0] = 0\n",
    "        dp[i][1] = wealth[i]\n",
    "    else:    \n",
    "        dp[i][0] = dp[i - 1][1] # i - 1 is broken and i is not broken\n",
    "        dp[i][1] = dp[i - 1][0] + wealth[i] # i - 1 is not broken and i is broken"
   ]
  },
  {
   "cell_type": "code",
   "execution_count": 16,
   "id": "herbal-creator",
   "metadata": {},
   "outputs": [
    {
     "name": "stdout",
     "output_type": "stream",
     "text": [
      "12\n"
     ]
    }
   ],
   "source": [
    "# ans = max(max amount till the last house when its not broken, max amount till the last house when its broken)\n",
    "print(max(dp[n - 1][0], dp[n - 1][1]))"
   ]
  },
  {
   "cell_type": "code",
   "execution_count": null,
   "id": "agricultural-scope",
   "metadata": {},
   "outputs": [],
   "source": []
  }
 ],
 "metadata": {
  "kernelspec": {
   "display_name": "Python 3",
   "language": "python",
   "name": "python3"
  },
  "language_info": {
   "codemirror_mode": {
    "name": "ipython",
    "version": 3
   },
   "file_extension": ".py",
   "mimetype": "text/x-python",
   "name": "python",
   "nbconvert_exporter": "python",
   "pygments_lexer": "ipython3",
   "version": "3.6.9"
  }
 },
 "nbformat": 4,
 "nbformat_minor": 5
}
