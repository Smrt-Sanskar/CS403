{
 "cells": [
  {
   "cell_type": "code",
   "execution_count": 1,
   "id": "obvious-stocks",
   "metadata": {},
   "outputs": [
    {
     "data": {
      "text/plain": [
       "'\\nVegetable cost Problem: Rahul wants to inspect the quality of the\\nvegetables in each store of a vegetable market. Suppose there are N\\ndifferent vendors. Every seller has a single kilogram of onion, carrot, and\\ntomato, but of different prices. Rahul wants to buy only one vegetable\\nfrom a single shop, avoiding buying the same vegetable from adjacent\\nshops. Given the cost of each vegetable in each shop in a N × 3 matrix,\\ncalculate the minimum amount of money that Rahul must spend in the\\ninspection.\\nExample: If there are three shops, and the corresponding cost matrix is\\ngiven as follows:\\nx\\nshop1\\nshop2\\nshop3\\nonion\\n50\\n50\\n1\\ncarrot\\n50\\n50\\n50\\ntomato\\n1\\n50\\n50\\nThen minimum cost will be 52 (onion from shop3, carrot from any shop2,\\nand tomato from shop1). Write a program with dynamic approach for N\\nshops and any given N × 3 cost matrix.\\n'"
      ]
     },
     "execution_count": 1,
     "metadata": {},
     "output_type": "execute_result"
    }
   ],
   "source": [
    "'''\n",
    "Vegetable cost Problem: Rahul wants to inspect the quality of the\n",
    "vegetables in each store of a vegetable market. Suppose there are N\n",
    "different vendors. Every seller has a single kilogram of onion, carrot, and\n",
    "tomato, but of different prices. Rahul wants to buy only one vegetable\n",
    "from a single shop, avoiding buying the same vegetable from adjacent\n",
    "shops. Given the cost of each vegetable in each shop in a N × 3 matrix,\n",
    "calculate the minimum amount of money that Rahul must spend in the\n",
    "inspection.\n",
    "Example: If there are three shops, and the corresponding cost matrix is\n",
    "given as follows:\n",
    "x      shop1 shop2 shop3\n",
    "onion  50    50    1\n",
    "carrot 50    50    50\n",
    "tomato 1     50    50\n",
    "Then minimum cost will be 52 (onion from shop3, carrot from any shop2,\n",
    "and tomato from shop1). Write a program with dynamic approach for N\n",
    "shops and any given N × 3 cost matrix.\n",
    "'''"
   ]
  },
  {
   "cell_type": "code",
   "execution_count": 2,
   "id": "meaningful-tuner",
   "metadata": {},
   "outputs": [
    {
     "name": "stdout",
     "output_type": "stream",
     "text": [
      "3\n",
      "50 50 1\n",
      "50 50 50\n",
      "1 50 50\n"
     ]
    }
   ],
   "source": [
    "# taking input\n",
    "n = int(input())\n",
    "cost = [[] for j in range(3)]\n",
    "for j in range(3):\n",
    "    cost[j] = list(map(int, input().split()))"
   ]
  },
  {
   "cell_type": "code",
   "execution_count": 3,
   "id": "wrong-frederick",
   "metadata": {},
   "outputs": [],
   "source": [
    "# dp[i][0] = min cost till the ith shop if we buy onion here\n",
    "# dp[i][1] = min cost till the ith shop if we buy carrot here\n",
    "# dp[i][2] = min cost till the ith shop if we buy tomato here\n",
    "# Time complexity = O(n)\n",
    "dp = [[0 for i in range(n)] for j in range(3)]    \n",
    "for i in range(n):\n",
    "    if(i == 0):\n",
    "        dp[i][0] = cost[i][0]\n",
    "        dp[i][1] = cost[i][1]\n",
    "        dp[i][2] = cost[i][2]\n",
    "    else:\n",
    "        dp[i][0] = min(dp[i - 1][1], dp[i - 1][2]) + cost[i][0] # buy onion\n",
    "        dp[i][1] = min(dp[i - 1][0], dp[i - 1][2]) + cost[i][1] # buy carrot\n",
    "        dp[i][2] = min(dp[i - 1][0], dp[i - 1][1]) + cost[i][2] # buy tomato"
   ]
  },
  {
   "cell_type": "code",
   "execution_count": 4,
   "id": "floral-kennedy",
   "metadata": {},
   "outputs": [
    {
     "name": "stdout",
     "output_type": "stream",
     "text": [
      "52\n"
     ]
    }
   ],
   "source": [
    "# ans is the min of all the three cases possible for the last shop\n",
    "print(min(dp[n - 1][0], dp[n - 1][1], dp[n - 1][2]))"
   ]
  },
  {
   "cell_type": "code",
   "execution_count": null,
   "id": "conventional-westminster",
   "metadata": {},
   "outputs": [],
   "source": []
  }
 ],
 "metadata": {
  "kernelspec": {
   "display_name": "Python 3",
   "language": "python",
   "name": "python3"
  },
  "language_info": {
   "codemirror_mode": {
    "name": "ipython",
    "version": 3
   },
   "file_extension": ".py",
   "mimetype": "text/x-python",
   "name": "python",
   "nbconvert_exporter": "python",
   "pygments_lexer": "ipython3",
   "version": "3.6.9"
  }
 },
 "nbformat": 4,
 "nbformat_minor": 5
}
