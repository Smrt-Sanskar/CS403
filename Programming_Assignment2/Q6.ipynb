{
 "cells": [
  {
   "cell_type": "code",
   "execution_count": 1,
   "id": "accomplished-trail",
   "metadata": {},
   "outputs": [
    {
     "data": {
      "text/plain": [
       "'\\nInvestment Problem: Your knowledge of algorithms helps you obtain\\nan exciting job with the Software Company, along with a $20, 000 signing\\nbonus. You decide to invest this money with the goal of maximizing your\\nreturn at the end of 10 years. You decide to use the ABC Investment\\nCompany to manage your investments. ABC Investments requires you to\\nobserve the following rules. It offers n different investments, numbered 1\\nthrough n. In each year j , investment i provides a return rate of r ij .\\nIn other words, if you invest d dollars in investment i in year j, then at\\nthe end of year j , you have dr ij dollars. The return rates are guaranteed,\\nthat is, you are given all the return rates for the next 10 years for each\\ninvestment. You make investment decisions only once per year. At the\\nend of each year, you can leave the money made in the previous year in\\nthe same investments, or you can shift money to other investments, by\\neither shifting money between existing investments or moving money to a\\nnew investment. If you do not move your money between two consecutive\\nyears, you pay a fee of f 1 dollars, whereas if you switch your money, you\\npay a fee of f 2 dollars, where f 2 > f 1 .\\nDesign a program that plans your optimal investment strategy, for any\\ngiven amount and years.\\n'"
      ]
     },
     "execution_count": 1,
     "metadata": {},
     "output_type": "execute_result"
    }
   ],
   "source": [
    "'''\n",
    "Investment Problem: Your knowledge of algorithms helps you obtain\n",
    "an exciting job with the Software Company, along with a $20, 000 signing\n",
    "bonus. You decide to invest this money with the goal of maximizing your\n",
    "return at the end of 10 years. You decide to use the ABC Investment\n",
    "Company to manage your investments. ABC Investments requires you to\n",
    "observe the following rules. It offers n different investments, numbered 1\n",
    "through n. In each year j , investment i provides a return rate of r ij .\n",
    "In other words, if you invest d dollars in investment i in year j, then at\n",
    "the end of year j , you have dr ij dollars. The return rates are guaranteed,\n",
    "that is, you are given all the return rates for the next 10 years for each\n",
    "investment. You make investment decisions only once per year. At the\n",
    "end of each year, you can leave the money made in the previous year in\n",
    "the same investments, or you can shift money to other investments, by\n",
    "either shifting money between existing investments or moving money to a\n",
    "new investment. If you do not move your money between two consecutive\n",
    "years, you pay a fee of f 1 dollars, whereas if you switch your money, you\n",
    "pay a fee of f 2 dollars, where f 2 > f 1 .\n",
    "Design a program that plans your optimal investment strategy, for any\n",
    "given amount and years.\n",
    "'''"
   ]
  },
  {
   "cell_type": "code",
   "execution_count": 11,
   "id": "earlier-macedonia",
   "metadata": {},
   "outputs": [
    {
     "name": "stdout",
     "output_type": "stream",
     "text": [
      "100\n",
      "4\n"
     ]
    }
   ],
   "source": [
    "# taking amount and number of years as input\n",
    "amt = float(input())\n",
    "yrs = int(input())"
   ]
  },
  {
   "cell_type": "code",
   "execution_count": 12,
   "id": "interpreted-final",
   "metadata": {},
   "outputs": [
    {
     "name": "stdout",
     "output_type": "stream",
     "text": [
      "3\n",
      "1.01 1.50 1.20 1.00\n",
      "1.00 1.00 2.00 1.00\n",
      "2.00 1.00 1.00 1.00\n"
     ]
    }
   ],
   "source": [
    "# taking the number of investments and their corresponding rates for different years as input \n",
    "n = int(input())\n",
    "rate = [[] for i in range(n)]\n",
    "for i in range(n):\n",
    "    rate[i] = list(map(float, input().split()))"
   ]
  },
  {
   "cell_type": "code",
   "execution_count": 13,
   "id": "accessory-details",
   "metadata": {},
   "outputs": [
    {
     "name": "stdout",
     "output_type": "stream",
     "text": [
      "3 5\n"
     ]
    }
   ],
   "source": [
    "# fee of switching or not switching\n",
    "f1, f2 = map(float, input().split())"
   ]
  },
  {
   "cell_type": "code",
   "execution_count": 22,
   "id": "simple-atlas",
   "metadata": {},
   "outputs": [],
   "source": [
    "# dp[i][j] = max money obtained at the end of j years if we use ith investment in jth year\n",
    "# Time complexity = O(yrs * n)\n",
    "dp = [[0 for j in range(yrs)] for i in range(n)]\n",
    "mx = 0\n",
    "for j in range(yrs):\n",
    "    if(j == 0):\n",
    "        curr_mx = 0\n",
    "        for i in range(n): \n",
    "            dp[i][j] = amt * rate[i][j]\n",
    "            curr_mx = max(curr_mx, dp[i][j])\n",
    "        mx = curr_mx    \n",
    "    else:\n",
    "        # for switching case, we will always take maximum from previous year\n",
    "        curr_mx = 0\n",
    "        for i in range(n):\n",
    "            if(dp[i][j - 1] == mx): dp[i][j] = (dp[i][j - 1] - f1) * rate[i][j] # Not switching is best (assuming f1 < f2)\n",
    "            else: dp[i][j] = max((dp[i][j - 1] - f1) * rate[i][j], (mx - f2) * rate[i][j]) # Check both the cases  \n",
    "            curr_mx = max(curr_mx, dp[i][j])  \n",
    "        mx = curr_mx    "
   ]
  },
  {
   "cell_type": "code",
   "execution_count": 23,
   "id": "arbitrary-donor",
   "metadata": {},
   "outputs": [
    {
     "name": "stdout",
     "output_type": "stream",
     "text": [
      "572.0\n"
     ]
    }
   ],
   "source": [
    "# ans = max of all possible investments we can do in last year\n",
    "ans = 0\n",
    "for i in range(n): ans = max(ans, dp[i][yrs - 1])\n",
    "print(ans)    "
   ]
  },
  {
   "cell_type": "code",
   "execution_count": null,
   "id": "robust-password",
   "metadata": {},
   "outputs": [],
   "source": []
  }
 ],
 "metadata": {
  "kernelspec": {
   "display_name": "Python 3",
   "language": "python",
   "name": "python3"
  },
  "language_info": {
   "codemirror_mode": {
    "name": "ipython",
    "version": 3
   },
   "file_extension": ".py",
   "mimetype": "text/x-python",
   "name": "python",
   "nbconvert_exporter": "python",
   "pygments_lexer": "ipython3",
   "version": "3.6.9"
  }
 },
 "nbformat": 4,
 "nbformat_minor": 5
}
