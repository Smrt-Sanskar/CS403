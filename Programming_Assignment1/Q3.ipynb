{
 "cells": [
  {
   "cell_type": "code",
   "execution_count": 1,
   "id": "gothic-mandate",
   "metadata": {},
   "outputs": [
    {
     "data": {
      "text/plain": [
       "'\\nGiven an array of n elements find median using divide and conquer ap-\\nproach. The running time complexity of the algorithm should be O(n).\\n'"
      ]
     },
     "execution_count": 1,
     "metadata": {},
     "output_type": "execute_result"
    }
   ],
   "source": [
    "'''\n",
    "Given an array of n elements find median using divide and conquer ap-\n",
    "proach. The running time complexity of the algorithm should be O(n).\n",
    "'''"
   ]
  },
  {
   "cell_type": "code",
   "execution_count": 2,
   "id": "pacific-lafayette",
   "metadata": {},
   "outputs": [],
   "source": [
    "# Merge the sorted arrays using two pointer approach\n",
    "# Time Complexity - O(n)\n",
    "def merge(arr1, arr2):\n",
    "    arr = []\n",
    "    i = 0 # Starting index of arr1 \n",
    "    j = 0 # Starting index of arr2\n",
    "    while (i < len(arr1) and j < len(arr2)):\n",
    "        if(arr1[i] < arr2[j]):\n",
    "            arr.append(arr1[i])\n",
    "            i += 1\n",
    "        else:\n",
    "            arr.append(arr2[j])\n",
    "            j += 1\n",
    "    while (i < len(arr1)):\n",
    "        arr.append(arr1[i])\n",
    "        i += 1\n",
    "    while (j < len(arr2)):\n",
    "        arr.append(arr2[j])\n",
    "        j += 1\n",
    "    return arr    "
   ]
  },
  {
   "cell_type": "code",
   "execution_count": 3,
   "id": "lyric-calvin",
   "metadata": {},
   "outputs": [],
   "source": [
    "# Split the array into two equal parts\n",
    "def sort(arr):\n",
    "    if(len(arr) == 1): return arr # If the array has less than or equal to one element then its already sorted\n",
    "    m = len(arr) // 2\n",
    "    arr1 = sort(arr[0 : m])\n",
    "    arr2 = sort(arr[m : len(arr)])\n",
    "    return merge(arr1, arr2)"
   ]
  },
  {
   "cell_type": "code",
   "execution_count": 4,
   "id": "cultural-renaissance",
   "metadata": {},
   "outputs": [],
   "source": [
    "# Overall Time Complexity\n",
    "# T(n) = O(n) + T(n/5) + O(n) + T(3n/4)\n",
    "# Using Master's Theorem, T(n) = O(n)\n",
    "def findelement(i, A):\n",
    "    # Partition A into groups of size 5\n",
    "    # Find the median of each group and put them in array B\n",
    "    # T(n) = O(n)\n",
    "    B = []\n",
    "    for j in range(0, len(A), 5):\n",
    "        tmp = A[j : j + 5]\n",
    "        B.append(sort(tmp)[len(tmp) // 2])\n",
    "        \n",
    "    # T(n) = T(n/5)    \n",
    "    if(len(B) <= 5): X = sort(B)[len(B) // 2]\n",
    "    else: X = find(len(B) // 2, B);\n",
    "\n",
    "    # Partition A into Al and Ar such that elements in Al are < X and elements in Ar are > X\n",
    "    # T(n) = O(n)\n",
    "    Al, Ar = [], []\n",
    "    for j in A:\n",
    "        if(j < X): Al.append(j)\n",
    "        elif(j > X): Ar.append(j)\n",
    "            \n",
    "    # T(n) = T(3n/4)        \n",
    "    if(i - 1 < len(Al)): return findelement(i, Al)\n",
    "    elif(i - 1 == len(Al)): return X\n",
    "    else: return findelement(i - len(Al) - 1, Ar)"
   ]
  },
  {
   "cell_type": "code",
   "execution_count": 5,
   "id": "disturbed-superior",
   "metadata": {},
   "outputs": [
    {
     "name": "stdout",
     "output_type": "stream",
     "text": [
      "15\n",
      "6 9 2 3 1 5 4 13 11 10 15 16 8 12 7\n"
     ]
    }
   ],
   "source": [
    "# Taking the array as input\n",
    "n = int(input())\n",
    "A = list(map(int,input().split()))"
   ]
  },
  {
   "cell_type": "code",
   "execution_count": 6,
   "id": "charming-observation",
   "metadata": {},
   "outputs": [
    {
     "name": "stdout",
     "output_type": "stream",
     "text": [
      "Median of array is: 8 computed in O(n) complexity\n"
     ]
    }
   ],
   "source": [
    "# findelement assumes that all elements of A are distinct\n",
    "print(\"Median of array is:\",findelement(n // 2 + 1, A),\"computed in O(n) complexity\")"
   ]
  },
  {
   "cell_type": "code",
   "execution_count": null,
   "id": "victorian-duration",
   "metadata": {},
   "outputs": [],
   "source": []
  }
 ],
 "metadata": {
  "kernelspec": {
   "display_name": "Python 3",
   "language": "python",
   "name": "python3"
  },
  "language_info": {
   "codemirror_mode": {
    "name": "ipython",
    "version": 3
   },
   "file_extension": ".py",
   "mimetype": "text/x-python",
   "name": "python",
   "nbconvert_exporter": "python",
   "pygments_lexer": "ipython3",
   "version": "3.6.9"
  }
 },
 "nbformat": 4,
 "nbformat_minor": 5
}
