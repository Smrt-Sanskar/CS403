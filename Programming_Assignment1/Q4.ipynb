{
 "cells": [
  {
   "cell_type": "code",
   "execution_count": 1,
   "id": "reduced-utilization",
   "metadata": {},
   "outputs": [
    {
     "data": {
      "text/plain": [
       "'\\nWrite an algorithm for quick sort that uses the algorithm for computing\\nmedian in O(n) time (stated in Question 3) as a subroutine, and give the\\nsorted array in O(n log n) complexity.\\n'"
      ]
     },
     "execution_count": 1,
     "metadata": {},
     "output_type": "execute_result"
    }
   ],
   "source": [
    "'''\n",
    "Write an algorithm for quick sort that uses the algorithm for computing\n",
    "median in O(n) time (stated in Question 3) as a subroutine, and give the\n",
    "sorted array in O(n log n) complexity.\n",
    "'''"
   ]
  },
  {
   "cell_type": "code",
   "execution_count": 2,
   "id": "exceptional-tennis",
   "metadata": {},
   "outputs": [],
   "source": [
    "# Merge the sorted arrays using two pointer approach\n",
    "# Time Complexity - O(n)\n",
    "def merge(arr1, arr2):\n",
    "    arr = []\n",
    "    i = 0 # Starting index of arr1 \n",
    "    j = 0 # Starting index of arr2\n",
    "    while (i < len(arr1) and j < len(arr2)):\n",
    "        if(arr1[i] < arr2[j]):\n",
    "            arr.append(arr1[i])\n",
    "            i += 1\n",
    "        else:\n",
    "            arr.append(arr2[j])\n",
    "            j += 1\n",
    "    while (i < len(arr1)):\n",
    "        arr.append(arr1[i])\n",
    "        i += 1\n",
    "    while (j < len(arr2)):\n",
    "        arr.append(arr2[j])\n",
    "        j += 1\n",
    "    return arr   "
   ]
  },
  {
   "cell_type": "code",
   "execution_count": 3,
   "id": "collaborative-oliver",
   "metadata": {},
   "outputs": [],
   "source": [
    "# Split the array into two equal parts\n",
    "def sort(arr):\n",
    "    if(len(arr) == 1): return arr # If the array has less than or equal to one element then its already sorted\n",
    "    m = len(arr) // 2\n",
    "    arr1 = sort(arr[0 : m])\n",
    "    arr2 = sort(arr[m : len(arr)])\n",
    "    return merge(arr1, arr2)"
   ]
  },
  {
   "cell_type": "code",
   "execution_count": 4,
   "id": "ecological-header",
   "metadata": {},
   "outputs": [],
   "source": [
    "# Overall Time Complexity\n",
    "# T(n) = O(n) + T(n/5) + O(n) + T(3n/4)\n",
    "# Using Master's Theorem, T(n) = O(n)\n",
    "def findelement(i, A):\n",
    "    # Partition A into groups of size 5\n",
    "    # Find the median of each group and put them in array B\n",
    "    # T(n) = O(n)\n",
    "    B = []\n",
    "    for j in range(0, len(A), 5):\n",
    "        tmp = A[j : j + 5]\n",
    "        B.append(sort(tmp)[len(tmp) // 2])\n",
    "        \n",
    "    # T(n) = T(n/5)    \n",
    "    if(len(B) <= 5): X = sort(B)[len(B) // 2]\n",
    "    else: X = find(len(B) // 2, B);\n",
    "\n",
    "    # Partition A into Al and Ar such that elements in Al are < X and elements in Ar are > X\n",
    "    # T(n) = O(n)\n",
    "    Al, Ar = [], []\n",
    "    for j in A:\n",
    "        if(j < X): Al.append(j)\n",
    "        elif(j > X): Ar.append(j)\n",
    "            \n",
    "    # T(n) = T(3n/4)        \n",
    "    if(i - 1 < len(Al)): return findelement(i, Al)\n",
    "    elif(i - 1 == len(Al)): return X\n",
    "    else: return findelement(i - len(Al) - 1, Ar)"
   ]
  },
  {
   "cell_type": "code",
   "execution_count": 5,
   "id": "latter-tumor",
   "metadata": {},
   "outputs": [],
   "source": [
    "# Find the median of the array A\n",
    "# Partition A into Al and Ar such that,\n",
    "# elements less than median are in Al and elements greater than median are in Ar\n",
    "# Sort Al and Ar and merge them to get A sorted\n",
    "# Time complexity of Merge = O(n)\n",
    "# T(n) = 2T(n/2) + O(n)\n",
    "# Using Master's Theorem, T(n) = O(nlogn)\n",
    "def quicksort(A):\n",
    "    if(len(A) <= 1): return A # Array is already sorted\n",
    "    m = findelement(len(A) // 2 + 1, A)\n",
    "    Al, Ar = [], []\n",
    "    for j in A:\n",
    "        if(j < m): Al.append(j)\n",
    "        elif(j > m): Ar.append(j)\n",
    "    Alsorted = quicksort(Al)\n",
    "    Arsorted = quicksort(Ar)\n",
    "    Asorted = []\n",
    "    for j in Alsorted:\n",
    "        Asorted.append(j)\n",
    "    Asorted.append(m)\n",
    "    for j in Arsorted:\n",
    "        Asorted.append(j)\n",
    "    return Asorted    "
   ]
  },
  {
   "cell_type": "code",
   "execution_count": 6,
   "id": "north-friendly",
   "metadata": {},
   "outputs": [
    {
     "name": "stdout",
     "output_type": "stream",
     "text": [
      "15\n",
      "6 9 2 3 1 5 4 13 11 10 15 16 8 12 7\n"
     ]
    }
   ],
   "source": [
    "# Taking the array as input\n",
    "n = int(input())\n",
    "A = list(map(int,input().split()))"
   ]
  },
  {
   "cell_type": "code",
   "execution_count": 7,
   "id": "variable-regular",
   "metadata": {},
   "outputs": [
    {
     "name": "stdout",
     "output_type": "stream",
     "text": [
      "Sorted array is: [1, 2, 3, 4, 5, 6, 7, 8, 9, 10, 11, 12, 13, 15, 16] computed in O(nlogn) complexity using quick sort\n"
     ]
    }
   ],
   "source": [
    "# findelement assumes that all elements of A are distinct\n",
    "A = quicksort(A)\n",
    "print(\"Sorted array is:\",A,\"computed in O(nlogn) complexity using quick sort\")"
   ]
  },
  {
   "cell_type": "code",
   "execution_count": null,
   "id": "lovely-malawi",
   "metadata": {},
   "outputs": [],
   "source": []
  }
 ],
 "metadata": {
  "kernelspec": {
   "display_name": "Python 3",
   "language": "python",
   "name": "python3"
  },
  "language_info": {
   "codemirror_mode": {
    "name": "ipython",
    "version": 3
   },
   "file_extension": ".py",
   "mimetype": "text/x-python",
   "name": "python",
   "nbconvert_exporter": "python",
   "pygments_lexer": "ipython3",
   "version": "3.6.9"
  }
 },
 "nbformat": 4,
 "nbformat_minor": 5
}
