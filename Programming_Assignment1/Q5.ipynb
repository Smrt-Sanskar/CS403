{
 "cells": [
  {
   "cell_type": "code",
   "execution_count": 1,
   "id": "ranking-grade",
   "metadata": {},
   "outputs": [
    {
     "data": {
      "text/plain": [
       "'\\nWrite an algorithm for merge-sort that give the sorted array in O(n log n)\\ncomplexity.\\n'"
      ]
     },
     "execution_count": 1,
     "metadata": {},
     "output_type": "execute_result"
    }
   ],
   "source": [
    "'''\n",
    "Write an algorithm for merge-sort that give the sorted array in O(n log n)\n",
    "complexity.\n",
    "'''"
   ]
  },
  {
   "cell_type": "code",
   "execution_count": 2,
   "id": "minor-orleans",
   "metadata": {},
   "outputs": [],
   "source": [
    "# Merge the sorted arrays using two pointer approach\n",
    "# Time Complexity - O(n)\n",
    "def merge(arr1, arr2):\n",
    "    arr = []\n",
    "    i = 0 # Starting index of arr1 \n",
    "    j = 0 # Starting index of arr2\n",
    "    while (i < len(arr1) and j < len(arr2)):\n",
    "        if(arr1[i] < arr2[j]):\n",
    "            arr.append(arr1[i])\n",
    "            i += 1\n",
    "        else:\n",
    "            arr.append(arr2[j])\n",
    "            j += 1\n",
    "    while (i < len(arr1)):\n",
    "        arr.append(arr1[i])\n",
    "        i += 1\n",
    "    while (j < len(arr2)):\n",
    "        arr.append(arr2[j])\n",
    "        j += 1\n",
    "    return arr    "
   ]
  },
  {
   "cell_type": "code",
   "execution_count": 3,
   "id": "renewable-stress",
   "metadata": {},
   "outputs": [],
   "source": [
    "# Split the array into two equal parts\n",
    "def sort(arr):\n",
    "    if(len(arr) == 1): return arr # If the array has less than or equal to one element then its already sorted\n",
    "    m = len(arr) // 2\n",
    "    arr1 = sort(arr[0 : m])\n",
    "    arr2 = sort(arr[m : len(arr)])\n",
    "    return merge(arr1, arr2)"
   ]
  },
  {
   "cell_type": "code",
   "execution_count": 4,
   "id": "united-campus",
   "metadata": {},
   "outputs": [
    {
     "name": "stdout",
     "output_type": "stream",
     "text": [
      "8\n",
      "5 4 7 9 3 10 12 8\n"
     ]
    }
   ],
   "source": [
    "# Taking the array as input\n",
    "n = int(input())\n",
    "arr = list(map(int,input().split()))"
   ]
  },
  {
   "cell_type": "code",
   "execution_count": 5,
   "id": "collectible-clone",
   "metadata": {},
   "outputs": [
    {
     "name": "stdout",
     "output_type": "stream",
     "text": [
      "Sorted array is: [3, 4, 5, 7, 8, 9, 10, 12] computed in O(nlogn) complexity\n"
     ]
    }
   ],
   "source": [
    "# T(n) = 2T(n/2) + n\n",
    "# Using Master's Theorem, T(n) = O(nlogn)\n",
    "arr = sort(arr)\n",
    "print(\"Sorted array is:\",arr,\"computed in O(nlogn) complexity\")"
   ]
  },
  {
   "cell_type": "code",
   "execution_count": null,
   "id": "surrounded-latest",
   "metadata": {},
   "outputs": [],
   "source": []
  }
 ],
 "metadata": {
  "kernelspec": {
   "display_name": "Python 3",
   "language": "python",
   "name": "python3"
  },
  "language_info": {
   "codemirror_mode": {
    "name": "ipython",
    "version": 3
   },
   "file_extension": ".py",
   "mimetype": "text/x-python",
   "name": "python",
   "nbconvert_exporter": "python",
   "pygments_lexer": "ipython3",
   "version": "3.6.9"
  }
 },
 "nbformat": 4,
 "nbformat_minor": 5
}
