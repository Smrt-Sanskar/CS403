{
 "cells": [
  {
   "cell_type": "code",
   "execution_count": 1,
   "id": "optional-gardening",
   "metadata": {},
   "outputs": [
    {
     "data": {
      "text/plain": [
       "'\\nGiven an array of n elements find its minimum and second minimum\\nelements using divide and conquer approach. The number of comparison\\nstep in the algorithm should be (n + log n − 2).\\n'"
      ]
     },
     "execution_count": 1,
     "metadata": {},
     "output_type": "execute_result"
    }
   ],
   "source": [
    "'''\n",
    "Given an array of n elements find its minimum and second minimum\n",
    "elements using divide and conquer approach. The number of comparison\n",
    "step in the algorithm should be (n + log n − 2).\n",
    "'''"
   ]
  },
  {
   "cell_type": "code",
   "execution_count": 2,
   "id": "progressive-tuition",
   "metadata": {},
   "outputs": [],
   "source": [
    "# If the length of array is 1, we need 0 comparisons to find min\n",
    "# If the length of array is greater than 1, divide the array in two equal parts\n",
    "# Merging the answers of two parts will take 1 comparison\n",
    "# Hence we will require n - 1 comparisons for finding the min in array of size n\n",
    "def mini(arr):\n",
    "    if(len(arr) == 1): return arr[0], 0, []\n",
    "    m = len(arr) // 2\n",
    "    mn1, cnt1, ls1 = mini(arr[0 : m])\n",
    "    mn2, cnt2, ls2 = mini(arr[m : len(arr)])\n",
    "    if(mn1 <= mn2):\n",
    "        ls1.append(mn2)\n",
    "        return mn1, cnt1 + cnt2 + 1, ls1\n",
    "    else:\n",
    "        ls2.append(mn1)\n",
    "        return mn2, cnt1 + cnt2 + 1, ls2"
   ]
  },
  {
   "cell_type": "code",
   "execution_count": 3,
   "id": "personalized-gossip",
   "metadata": {},
   "outputs": [
    {
     "name": "stdout",
     "output_type": "stream",
     "text": [
      "16\n",
      "4 3 7 9 2 6 13 5 0 1 7 12 5 9 1 10\n"
     ]
    }
   ],
   "source": [
    "# Taking the array as input\n",
    "n = int(input())\n",
    "arr = list(map(int,input().split()))"
   ]
  },
  {
   "cell_type": "code",
   "execution_count": 4,
   "id": "three-dimension",
   "metadata": {},
   "outputs": [
    {
     "name": "stdout",
     "output_type": "stream",
     "text": [
      "Min and Second Min of the array are 0 and 1 respectively, computed in 18 operations.\n"
     ]
    }
   ],
   "source": [
    "# T(n) = 2T(n/2) + 1\n",
    "# Using Master's Theorem, T(n) = O(n)\n",
    "# cnt1 = n - 1\n",
    "# cnt2 = logn - 1\n",
    "mn1, cnt1, ls1 = mini(arr) \n",
    "mn2, cnt2, ls2 = mini(ls1)\n",
    "print(\"Min and Second Min of the array are\",mn1,\"and\",mn2,\"respectively, computed in\",cnt1 + cnt2,\"operations.\")"
   ]
  },
  {
   "cell_type": "code",
   "execution_count": null,
   "id": "related-glenn",
   "metadata": {},
   "outputs": [],
   "source": []
  }
 ],
 "metadata": {
  "kernelspec": {
   "display_name": "Python 3",
   "language": "python",
   "name": "python3"
  },
  "language_info": {
   "codemirror_mode": {
    "name": "ipython",
    "version": 3
   },
   "file_extension": ".py",
   "mimetype": "text/x-python",
   "name": "python",
   "nbconvert_exporter": "python",
   "pygments_lexer": "ipython3",
   "version": "3.6.9"
  }
 },
 "nbformat": 4,
 "nbformat_minor": 5
}
