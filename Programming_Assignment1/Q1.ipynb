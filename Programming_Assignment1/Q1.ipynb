{
 "cells": [
  {
   "cell_type": "code",
   "execution_count": 1,
   "id": "stuck-knight",
   "metadata": {
    "scrolled": true
   },
   "outputs": [
    {
     "data": {
      "text/plain": [
       "'\\nGiven an array of n elements find its maximum and minimum elements\\nusing divide and conquer approach. The number of comparison step in\\nthe algorithm should be (3n/2 − 2).\\n'"
      ]
     },
     "execution_count": 1,
     "metadata": {},
     "output_type": "execute_result"
    }
   ],
   "source": [
    "'''\n",
    "Given an array of n elements find its maximum and minimum elements\n",
    "using divide and conquer approach. The number of comparison step in\n",
    "the algorithm should be (3n/2 − 2).\n",
    "'''"
   ]
  },
  {
   "cell_type": "code",
   "execution_count": 2,
   "id": "skilled-violation",
   "metadata": {},
   "outputs": [],
   "source": [
    "# If the length of array is 1, we need 0 comparisons to find max and min\n",
    "# If the length of array is 2, we need 1 comparion to find max and min\n",
    "# If the length of array is greater than 2, divide the array in two equal parts\n",
    "# Merging the answers of two parts will take 2 comparisons\n",
    "def maxmin(arr):\n",
    "    if(len(arr) == 1): return arr[0], arr[0], 0\n",
    "    if(len(arr) == 2):\n",
    "        if(arr[0] >= arr[1]): return arr[0], arr[1], 1\n",
    "        else: return arr[1], arr[0], 1\n",
    "    m = len(arr) // 2\n",
    "    mx1, mn1, cnt1 = maxmin(arr[0 : m])\n",
    "    mx2, mn2, cnt2 = maxmin(arr[m : len(arr)])\n",
    "    return max(mx1, mx2), min(mn1, mn2), cnt1 + cnt2 + 2"
   ]
  },
  {
   "cell_type": "code",
   "execution_count": 3,
   "id": "aerial-airline",
   "metadata": {},
   "outputs": [
    {
     "name": "stdout",
     "output_type": "stream",
     "text": [
      "8\n",
      "2 4 7 8 3 5 1 9\n"
     ]
    }
   ],
   "source": [
    "# Taking the array as input\n",
    "n = int(input())\n",
    "arr = list(map(int,input().split()))"
   ]
  },
  {
   "cell_type": "code",
   "execution_count": 4,
   "id": "standing-decimal",
   "metadata": {},
   "outputs": [
    {
     "name": "stdout",
     "output_type": "stream",
     "text": [
      "Max and Min of the array are 9 and 1 respectively, computed in 10 operations.\n"
     ]
    }
   ],
   "source": [
    "# T(n) = 2T(n/2) + 2\n",
    "# Using Master's Theorem, T(n) = O(n)\n",
    "mx, mn, cnt = maxmin(arr)\n",
    "print(\"Max and Min of the array are\",mx,\"and\",mn,\"respectively, computed in\",cnt,\"operations.\")"
   ]
  },
  {
   "cell_type": "code",
   "execution_count": null,
   "id": "respected-worship",
   "metadata": {},
   "outputs": [],
   "source": []
  }
 ],
 "metadata": {
  "kernelspec": {
   "display_name": "Python 3",
   "language": "python",
   "name": "python3"
  },
  "language_info": {
   "codemirror_mode": {
    "name": "ipython",
    "version": 3
   },
   "file_extension": ".py",
   "mimetype": "text/x-python",
   "name": "python",
   "nbconvert_exporter": "python",
   "pygments_lexer": "ipython3",
   "version": "3.6.9"
  }
 },
 "nbformat": 4,
 "nbformat_minor": 5
}
