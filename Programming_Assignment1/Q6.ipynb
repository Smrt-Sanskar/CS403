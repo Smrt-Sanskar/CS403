{
 "cells": [
  {
   "cell_type": "code",
   "execution_count": 1,
   "id": "expected-culture",
   "metadata": {},
   "outputs": [
    {
     "data": {
      "text/plain": [
       "'\\nAn array A[1 . . . n] is said to have a majority element if more than half of\\nits entries are the same. Given an array, the task is to design an efficient\\nalgorithm to tell whether the array has a majority element, and, if so, to\\nfind that element.\\n'"
      ]
     },
     "execution_count": 1,
     "metadata": {},
     "output_type": "execute_result"
    }
   ],
   "source": [
    "'''\n",
    "An array A[1 . . . n] is said to have a majority element if more than half of\n",
    "its entries are the same. Given an array, the task is to design an efficient\n",
    "algorithm to tell whether the array has a majority element, and, if so, to\n",
    "find that element.\n",
    "'''"
   ]
  },
  {
   "cell_type": "code",
   "execution_count": 2,
   "id": "expensive-forwarding",
   "metadata": {},
   "outputs": [],
   "source": [
    "# Frequency of the element in the array\n",
    "# T(n) = O(n)\n",
    "def freq(ele, arr):\n",
    "    cnt = 0\n",
    "    for i in range(len(arr)):\n",
    "        if(arr[i] == ele):\n",
    "            cnt += 1\n",
    "    return cnt        "
   ]
  },
  {
   "cell_type": "code",
   "execution_count": 3,
   "id": "sharing-patient",
   "metadata": {},
   "outputs": [],
   "source": [
    "# If the length of array is 1, the only element is the majority element\n",
    "# If the length of array is greater than 1, divide the array in two equal parts\n",
    "# Merging the answers of two parts will take O(n) time\n",
    "# T(n) = 2T(n/2) + O(n)\n",
    "# T(n) = O(nlogn)\n",
    "def major1(arr):\n",
    "    if(len(arr) == 1): return arr[0]\n",
    "    m = len(arr) // 2\n",
    "    x = major1(arr[0 : m])\n",
    "    y = major1(arr[m : len(arr)])\n",
    "    if(freq(x, arr) > len(arr) // 2): return x\n",
    "    if(freq(y, arr) > len(arr) // 2): return y\n",
    "    return -1"
   ]
  },
  {
   "cell_type": "code",
   "execution_count": 4,
   "id": "olive-mixer",
   "metadata": {},
   "outputs": [],
   "source": [
    "# If the length of array is 0, there is no majority element\n",
    "# If the length of array is 1, the only element is the majority element\n",
    "# If the length of array is greater than 1, pair up the elements of array and get atmost n/2 pairs\n",
    "# Completely disregard the pair if both elements are different, else take one of them in the new array\n",
    "# T(n) = T(n/2) + O(n)\n",
    "# Using Master's Theorem, T(n) = O(n)\n",
    "def major2(arr):\n",
    "    if(len(arr) == 0): return -1\n",
    "    if(len(arr) == 1): return arr[0]\n",
    "    newarr = []\n",
    "    i = 0\n",
    "    while (i + 1 < len(arr)):\n",
    "        if(arr[i] == arr[i+1]):\n",
    "            newarr.append(arr[i])\n",
    "        i += 2\n",
    "    if(i < len(arr)): newarr.append(arr[i])\n",
    "    x = major2(newarr)\n",
    "    if(freq(x, arr) > len(arr) // 2): return x\n",
    "    return -1   "
   ]
  },
  {
   "cell_type": "code",
   "execution_count": 5,
   "id": "knowing-church",
   "metadata": {},
   "outputs": [
    {
     "name": "stdout",
     "output_type": "stream",
     "text": [
      "8\n",
      "2 3 2 3 2 3 3 3\n"
     ]
    }
   ],
   "source": [
    "# Taking the array as input\n",
    "n = int(input())\n",
    "arr = list(map(int,input().split()))"
   ]
  },
  {
   "cell_type": "code",
   "execution_count": 6,
   "id": "hired-celebrity",
   "metadata": {},
   "outputs": [
    {
     "name": "stdout",
     "output_type": "stream",
     "text": [
      "Majority element of the array using O(nlogn) algorithm is 3\n",
      "Majority element of the array using O(n) algorithm is 3\n"
     ]
    }
   ],
   "source": [
    "x = major1(arr)\n",
    "if(x != -1): print(\"Majority element of the array using O(nlogn) algorithm is\",x)\n",
    "else: print(\"No Majority element using O(nlogn) algorithm\")\n",
    "y = major2(arr)    \n",
    "if(y != -1): print(\"Majority element of the array using O(n) algorithm is\",y)\n",
    "else: print(\"No Majority element using O(n) algorithm\")  "
   ]
  },
  {
   "cell_type": "code",
   "execution_count": null,
   "id": "mathematical-image",
   "metadata": {},
   "outputs": [],
   "source": []
  }
 ],
 "metadata": {
  "kernelspec": {
   "display_name": "Python 3",
   "language": "python",
   "name": "python3"
  },
  "language_info": {
   "codemirror_mode": {
    "name": "ipython",
    "version": 3
   },
   "file_extension": ".py",
   "mimetype": "text/x-python",
   "name": "python",
   "nbconvert_exporter": "python",
   "pygments_lexer": "ipython3",
   "version": "3.6.9"
  }
 },
 "nbformat": 4,
 "nbformat_minor": 5
}
